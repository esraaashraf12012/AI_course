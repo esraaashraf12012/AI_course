{
 "cells": [
  {
   "cell_type": "markdown",
   "id": "1207d899",
   "metadata": {},
   "source": [
    "# session15 Task1\n",
    "\n",
    "## when do we use mathematical integration in AI ?\n",
    "\n",
    "1- Probability theory is the source of many if not most of the integrals that appear in AI. Probability distributions are used to represent data sources and to build statistical models. When the data is drawn probabilistically from a continuous space, then average values over the data are computed by integrals. This is called the expectation of a random variable, written as  E[X] . That may not look like an integral, but any standard text will define this as\n",
    "\n",
    "E[X]=∫ΩX(ω)P(dω), \n",
    "\n",
    "where  P  is a probability measure over a space  Ω . That may not look like an integral you’re familiar with, but it is a defined integral.\n",
    "\n",
    "-integration occurs naturally when taking expectations over functions. This often appears in the mathematical derivation of the algorithms used.\n",
    "\n",
    "2- integral calculus might be used in theoretical results (proving convergence, error bounds, …)."
   ]
  }
 ],
 "metadata": {
  "kernelspec": {
   "display_name": "Python 3",
   "language": "python",
   "name": "python3"
  },
  "language_info": {
   "codemirror_mode": {
    "name": "ipython",
    "version": 3
   },
   "file_extension": ".py",
   "mimetype": "text/x-python",
   "name": "python",
   "nbconvert_exporter": "python",
   "pygments_lexer": "ipython3",
   "version": "3.8.8"
  }
 },
 "nbformat": 4,
 "nbformat_minor": 5
}
