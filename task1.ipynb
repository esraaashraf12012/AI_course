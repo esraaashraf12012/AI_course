{
 "cells": [
  {
   "cell_type": "markdown",
   "id": "befc693a",
   "metadata": {},
   "source": [
    "# How to get the address of a variable"
   ]
  },
  {
   "cell_type": "code",
   "execution_count": 3,
   "id": "02d95ddf",
   "metadata": {},
   "outputs": [],
   "source": [
    "x=3;\n",
    "y=3;"
   ]
  },
  {
   "cell_type": "code",
   "execution_count": 6,
   "id": "9c07e7b9",
   "metadata": {},
   "outputs": [
    {
     "name": "stdout",
     "output_type": "stream",
     "text": [
      "0x7ffe49282770\n",
      "0x7ffe49282770\n"
     ]
    }
   ],
   "source": [
    "print(hex(id(x)))\n",
    "print(hex(id(y)))"
   ]
  },
  {
   "cell_type": "markdown",
   "id": "d65acccf",
   "metadata": {},
   "source": [
    "x&y have the same address because they have the same value"
   ]
  },
  {
   "cell_type": "code",
   "execution_count": 7,
   "id": "385e65e6",
   "metadata": {},
   "outputs": [],
   "source": [
    "y=5\n"
   ]
  },
  {
   "cell_type": "code",
   "execution_count": 8,
   "id": "80280230",
   "metadata": {},
   "outputs": [
    {
     "name": "stdout",
     "output_type": "stream",
     "text": [
      "0x7ffe49282770\n",
      "0x7ffe492827b0\n"
     ]
    }
   ],
   "source": [
    "print(hex(id(x)))\n",
    "print(hex(id(y)))"
   ]
  },
  {
   "cell_type": "markdown",
   "id": "3a6e7588",
   "metadata": {},
   "source": [
    "y address change because its value changes"
   ]
  },
  {
   "cell_type": "code",
   "execution_count": null,
   "id": "0a1a0f2a",
   "metadata": {},
   "outputs": [],
   "source": []
  }
 ],
 "metadata": {
  "kernelspec": {
   "display_name": "Python 3",
   "language": "python",
   "name": "python3"
  },
  "language_info": {
   "codemirror_mode": {
    "name": "ipython",
    "version": 3
   },
   "file_extension": ".py",
   "mimetype": "text/x-python",
   "name": "python",
   "nbconvert_exporter": "python",
   "pygments_lexer": "ipython3",
   "version": "3.8.8"
  }
 },
 "nbformat": 4,
 "nbformat_minor": 5
}
