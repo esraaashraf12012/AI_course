{
 "cells": [
  {
   "cell_type": "markdown",
   "id": "2090facb",
   "metadata": {},
   "source": [
    "# session 13\n",
    "\n",
    "# live data update websites\n",
    "\n",
    "## 1- Coronavirus live website:\n",
    "https://www.worldometers.info/coronavirus/\n",
    "\n",
    "\n",
    "## 2- Traffic live update website:\n",
    "https://www.waze.com/live-map\n",
    "\n",
    "\n",
    "## 3- Weather update website:\n",
    "https://www.windy.com/\n",
    "\n",
    "\n",
    "## 4- CNN stock market website:\n",
    "https://money.cnn.com/data/markets\n",
    "\n",
    "\n",
    "## 5-  stock market website(Egypt):\n",
    "https://www.egx.com.eg/en/InradayTradingStatistics.aspx\n",
    "\n",
    "\n",
    "## 6-  births,deaths,marriges update in Egypt:\n",
    "https://www.ceicdata.com/en/egypt/vital-statistics\n"
   ]
  }
 ],
 "metadata": {
  "kernelspec": {
   "display_name": "Python 3",
   "language": "python",
   "name": "python3"
  },
  "language_info": {
   "codemirror_mode": {
    "name": "ipython",
    "version": 3
   },
   "file_extension": ".py",
   "mimetype": "text/x-python",
   "name": "python",
   "nbconvert_exporter": "python",
   "pygments_lexer": "ipython3",
   "version": "3.8.8"
  }
 },
 "nbformat": 4,
 "nbformat_minor": 5
}
