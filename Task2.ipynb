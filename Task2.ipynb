{
 "cells": [
  {
   "cell_type": "markdown",
   "id": "8cb0e7ad",
   "metadata": {},
   "source": [
    "# create class for car"
   ]
  },
  {
   "cell_type": "code",
   "execution_count": 1,
   "id": "98401127",
   "metadata": {},
   "outputs": [],
   "source": [
    "class car:\n",
    "    def __init__(self):\n",
    "        self.brand=input(\"Enter the brand of the car:\")\n",
    "        self.type=int(input(\"choose your car type 1:electrical 2:oil\"))\n",
    "        if (self.type==1):\n",
    "             self.charge = int(input(\"please enter your electrical charge level \"))\n",
    "        elif (self.type==2):\n",
    "             self.charge = int(input(\"please enter your oil level \"))\n",
    "        self.__lock = int(input(\"please enter your lock pin: \"))\n",
    "        self.lockopen=False\n",
    "        self.speed = int(input(\"please enter your speed: \"))\n",
    "        self.chooseaction()\n",
    "        \n",
    "    def openlock(self, lock): \n",
    "        \n",
    "        if (lock == self.__lock and self.lockopen==0):\n",
    "            print(\"lock is open now\")\n",
    "            self.lockopen=True\n",
    "        elif (lock == self.__lock and self.lockopen==1):\n",
    "            print(\"lock is already open\")\n",
    "        else: \n",
    "            print(\"wrong lock pin\")      \n",
    "    def closelock(self, lock): \n",
    "        \n",
    "        if (lock == self.__lock and self.lockopen==1):\n",
    "            print(\"lock is closed now\")\n",
    "            self.lockopen=False\n",
    "        elif(lock==self.__lock and self.lockopen==0):\n",
    "            print(\"lock is aleady close\")\n",
    "        else: \n",
    "            print(\"wrong lock pin\")   \n",
    "    def changespeed(self, lock): \n",
    "        \n",
    "        if (lock == self.__lock):\n",
    "                speed = int(input(\"please enter your new speed: \"))\n",
    "                if speed <=240 and speed>=0:\n",
    "                    self.speed = speed\n",
    "                    print(\"your new speed:\", self.speed)\n",
    "                \n",
    "                else :\n",
    "                    print(\"speed limit exceeded\")\n",
    "                    \n",
    "    def checkoil(self,lock) :\n",
    "        if (lock == self.__lock):\n",
    "                if (self.type == 2):\n",
    "                    print(\"your oil level =\", self.charge)\n",
    "                if (self.type == 1):\n",
    "                    print (\"your car is electrical\")\n",
    "                \n",
    "    def filltank(self,lock) :\n",
    "        if (lock == self.__lock):\n",
    "            if (self.type == 2):\n",
    "                 if self.charge < 100:\n",
    "                    print(\"your tank is filled\")\n",
    "                    self.charge=100\n",
    "                    print(\"your new oil level =\", self.charge)\n",
    "                \n",
    "                 elif (self.charge==100):\n",
    "                    print(\"your tank is already filled\")\n",
    "            \n",
    "            if (self.type ==1):\n",
    "                print (\"your car is electrical\")\n",
    "       \n",
    "    def charging(self,lock):\n",
    "        if (lock == self.__lock):\n",
    "             if self.type == 1:\n",
    "                if self.charge<100 :\n",
    "                    print(\"your car is fully charged\")\n",
    "                    self.charge=100\n",
    "                    print(\"your new charge =\", self.charge)\n",
    "                 \n",
    "                elif self.charge==100:\n",
    "                    print(\"your car is already fully charged\")\n",
    "             \n",
    "             if self.type == 2:\n",
    "                print (\"your car works by oil\")\n",
    "        \n",
    "                \n",
    "    def chooseaction(self):\n",
    "        lock = int(input(\"please enter your lock pin: \"))\n",
    "        while True:    \n",
    "            print(\"1. open lock, 2. close lock ,3. change speed, 4.check oil, 5.filltank, 6.charge \")\n",
    "            action = int(input(\"please enter what operation you want\"))\n",
    "            if action == 1:\n",
    "                self.openlock(lock)\n",
    "            elif action == 2:\n",
    "                self.closelock(lock)\n",
    "            elif action == 3:\n",
    "                self.changespeed(lock)\n",
    "            elif action == 4:\n",
    "                self.checkoil(lock)\n",
    "            elif action == 5:\n",
    "                self.filltank(lock)\n",
    "            elif action == 6:\n",
    "                self.charging(lock)                \n",
    "            else:\n",
    "                break            \n"
   ]
  },
  {
   "cell_type": "markdown",
   "id": "a256f2ce",
   "metadata": {},
   "source": [
    "## object1(BWM)"
   ]
  },
  {
   "cell_type": "code",
   "execution_count": 2,
   "id": "92eba3fb",
   "metadata": {},
   "outputs": [
    {
     "name": "stdout",
     "output_type": "stream",
     "text": [
      "Enter the brand of the car:BMW\n",
      "choose your car type 1:electrical 2:oil2\n",
      "please enter your oil level 50\n",
      "please enter your lock pin: 1234\n",
      "please enter your speed: 120\n",
      "please enter your lock pin: 1234\n",
      "1. open lock, 2. close lock ,3. change speed, 4.check oil, 5.filltank, 6.charge \n",
      "please enter what operation you want1\n",
      "lock is open now\n",
      "1. open lock, 2. close lock ,3. change speed, 4.check oil, 5.filltank, 6.charge \n",
      "please enter what operation you want2\n",
      "lock is closed now\n",
      "1. open lock, 2. close lock ,3. change speed, 4.check oil, 5.filltank, 6.charge \n",
      "please enter what operation you want3\n",
      "please enter your new speed: 140\n",
      "your new speed: 140\n",
      "1. open lock, 2. close lock ,3. change speed, 4.check oil, 5.filltank, 6.charge \n",
      "please enter what operation you want4\n",
      "your oil level = 50\n",
      "1. open lock, 2. close lock ,3. change speed, 4.check oil, 5.filltank, 6.charge \n",
      "please enter what operation you want5\n",
      "your tank is filled\n",
      "your new oil level = 100\n",
      "1. open lock, 2. close lock ,3. change speed, 4.check oil, 5.filltank, 6.charge \n",
      "please enter what operation you want4\n",
      "your oil level = 100\n",
      "1. open lock, 2. close lock ,3. change speed, 4.check oil, 5.filltank, 6.charge \n",
      "please enter what operation you want6\n",
      "your car works by oil\n",
      "1. open lock, 2. close lock ,3. change speed, 4.check oil, 5.filltank, 6.charge \n",
      "please enter what operation you want8\n"
     ]
    }
   ],
   "source": [
    " car1=car()"
   ]
  },
  {
   "cell_type": "markdown",
   "id": "d4f6413d",
   "metadata": {},
   "source": [
    "## object2(Tesla)"
   ]
  },
  {
   "cell_type": "code",
   "execution_count": 3,
   "id": "a222a2d7",
   "metadata": {},
   "outputs": [
    {
     "name": "stdout",
     "output_type": "stream",
     "text": [
      "Enter the brand of the car:Tesla\n",
      "choose your car type 1:electrical 2:oil1\n",
      "please enter your electrical charge level 70\n",
      "please enter your lock pin: 123\n",
      "please enter your speed: 200\n",
      "please enter your lock pin: 123\n",
      "1. open lock, 2. close lock ,3. change speed, 4.check oil, 5.filltank, 6.charge \n",
      "please enter what operation you want2\n",
      "lock is aleady close\n",
      "1. open lock, 2. close lock ,3. change speed, 4.check oil, 5.filltank, 6.charge \n",
      "please enter what operation you want1\n",
      "lock is open now\n",
      "1. open lock, 2. close lock ,3. change speed, 4.check oil, 5.filltank, 6.charge \n",
      "please enter what operation you want3\n",
      "please enter your new speed: 230\n",
      "your new speed: 230\n",
      "1. open lock, 2. close lock ,3. change speed, 4.check oil, 5.filltank, 6.charge \n",
      "please enter what operation you want4\n",
      "your car is electrical\n",
      "1. open lock, 2. close lock ,3. change speed, 4.check oil, 5.filltank, 6.charge \n",
      "please enter what operation you want5\n",
      "your car is electrical\n",
      "1. open lock, 2. close lock ,3. change speed, 4.check oil, 5.filltank, 6.charge \n",
      "please enter what operation you want6\n",
      "your car is fully charged\n",
      "your new charge = 100\n",
      "1. open lock, 2. close lock ,3. change speed, 4.check oil, 5.filltank, 6.charge \n",
      "please enter what operation you want8\n"
     ]
    }
   ],
   "source": [
    "car2=car()"
   ]
  }
 ],
 "metadata": {
  "kernelspec": {
   "display_name": "Python 3",
   "language": "python",
   "name": "python3"
  },
  "language_info": {
   "codemirror_mode": {
    "name": "ipython",
    "version": 3
   },
   "file_extension": ".py",
   "mimetype": "text/x-python",
   "name": "python",
   "nbconvert_exporter": "python",
   "pygments_lexer": "ipython3",
   "version": "3.8.8"
  }
 },
 "nbformat": 4,
 "nbformat_minor": 5
}
