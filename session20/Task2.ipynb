{
 "cells": [
  {
   "cell_type": "markdown",
   "id": "70aaa5db",
   "metadata": {},
   "source": [
    "# session20 Task2\n",
    "##  Transformations and adjustments in time series analyses\n",
    "\n",
    "## 1-Calendar adjustments\n",
    "## 2-Inflation adjustments\n",
    "## 3-Mathematical transformations\n",
    "###    -Box-Cox transformations \n",
    "## 4-Population adjustments\n",
    "   -Any data that are affected by population changes can be adjusted to give per-capita data.consider the data per person (or per thousand people, or per million people) rather than the total. For example, if you are studying the number of hospital beds in a particular region over time, the results are much easier to interpret if you remove the effects of population changes by considering the number of beds per thousand people. Then you can see whether there have been real increases in the number of beds, or whether the increases are due entirely to population increases. It is possible for the total number of beds to increase, but the number of beds per thousand people to decrease. This occurs when the population is increasing faster than the number of hospital beds. For most data that are affected by population changes, it is best to use per-capita data rather than the totals.\n",
    "\n",
    "## 5-Bias adjustments\n",
    "   -One issue with using mathematical transformations such as Box-Cox transformations is that the back-transformed point forecast will not be the mean of the forecast distribution. In fact, it will usually be the median of the forecast distribution (assuming that the distribution on the transformed space is symmetric). For many purposes, this is acceptable, but occasionally the mean forecast is required. For example, you may wish to add up sales forecasts from various regions to form a forecast for the whole country. But medians do not add up, whereas means do.\n",
    "    "
   ]
  }
 ],
 "metadata": {
  "kernelspec": {
   "display_name": "Python 3",
   "language": "python",
   "name": "python3"
  },
  "language_info": {
   "codemirror_mode": {
    "name": "ipython",
    "version": 3
   },
   "file_extension": ".py",
   "mimetype": "text/x-python",
   "name": "python",
   "nbconvert_exporter": "python",
   "pygments_lexer": "ipython3",
   "version": "3.8.8"
  }
 },
 "nbformat": 4,
 "nbformat_minor": 5
}
