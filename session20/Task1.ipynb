{
 "cells": [
  {
   "cell_type": "markdown",
   "id": "8658c603",
   "metadata": {},
   "source": [
    "# session20  Task1\n",
    "## Mathematical Model for Time Series Analysis\n",
    "\n",
    "Mathematically, a time series is given as\n",
    "\n",
    "yt = f (t)\n",
    "\n",
    "Here, yt is the value of the variable under study at time t. If the population is the variable under study at the various time period t1, t2, t3, … , tn. Then the time series is\n",
    "\n",
    "t: t1, t2, t3, … , tn\n",
    "\n",
    "yt: yt1, yt2, yt3, …, ytn\n",
    "\n",
    "\n",
    "\n",
    "## Additive Model for Time Series Analysis\n",
    "If yt is the time series value at time t. Tt, St, Ct, and Rt are the trend value, seasonal, cyclic and random fluctuations at time t respectively. According to the Additive Model, a time series can be expressed as\n",
    "\n",
    "yt = Tt + St + Ct + Rt.\n",
    "\n",
    "This model assumes that all four components of the time series act independently of each other.\n",
    "\n",
    "## Multiplicative Model for Time Series Analysis\n",
    "The multiplicative model assumes that the various components in a time series operate proportionately to each other. According to this model\n",
    "\n",
    "yt = Tt × St × Ct × Rt\n",
    "\n",
    "## Mixed models\n",
    "Different assumptions lead to different combinations of additive and multiplicative models as\n",
    "\n",
    "yt = Tt + St + Ct Rt.\n",
    "\n",
    "The time series analysis can also be done using the model yt = Tt + St × Ct × Rt or yt = Tt × Ct + St × Rt etc."
   ]
  }
 ],
 "metadata": {
  "kernelspec": {
   "display_name": "Python 3",
   "language": "python",
   "name": "python3"
  },
  "language_info": {
   "codemirror_mode": {
    "name": "ipython",
    "version": 3
   },
   "file_extension": ".py",
   "mimetype": "text/x-python",
   "name": "python",
   "nbconvert_exporter": "python",
   "pygments_lexer": "ipython3",
   "version": "3.8.8"
  }
 },
 "nbformat": 4,
 "nbformat_minor": 5
}
